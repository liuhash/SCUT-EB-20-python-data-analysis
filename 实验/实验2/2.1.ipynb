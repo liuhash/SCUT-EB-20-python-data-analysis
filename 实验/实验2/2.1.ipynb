{
 "cells": [
  {
   "cell_type": "code",
   "execution_count": 48,
   "metadata": {
    "collapsed": true
   },
   "outputs": [
    {
     "name": "stdout",
     "output_type": "stream",
     "text": [
      "2008 清洗完毕！\n",
      "2009 清洗完毕！\n",
      "2010 清洗完毕！\n",
      "2011 清洗完毕！\n",
      "2012 清洗完毕！\n",
      "2013 清洗完毕！\n",
      "2014 清洗完毕！\n",
      "2015 清洗完毕！\n",
      "2016 清洗完毕！\n",
      "2017 清洗完毕！\n",
      "2018 清洗完毕！\n"
     ]
    }
   ],
   "source": [
    "import pandas as pd\n",
    "import os\n",
    "for i in range(2008,2019):\n",
    "    path=\"../实验1/{}/专利执法情况.csv\".format(i)\n",
    "    if not os.path.exists(\"{}\".format(i)):\n",
    "        os.mkdir(\"{}\".format(i))\n",
    "    output_path=\"{}/专利执法情况_数据清洗.csv\".format(i)\n",
    "    raw_data=pd.read_csv(path)\n",
    "    data=raw_data.iloc[2:,:4]\n",
    "    # print(data)\n",
    "    data.columns=['地区', '年份', '立案', '结案']\n",
    "    regions=data.loc[data.index%2==0,'地区']\n",
    "    data=data[data.index%2==1]\n",
    "    data['地区']=regions.values\n",
    "    # print(type(regions))\n",
    "    data=data[1:]\n",
    "    data.set_index('地区',inplace=True)\n",
    "    data['结案']=data['结案'].astype(int)\n",
    "    data['立案']=data['立案'].astype(int)\n",
    "    data['结案率']=data['结案']/data['立案']\n",
    "    data['结案率'].fillna(0,inplace=True)\n",
    "    # print(data)\n",
    "    data.to_csv(output_path)\n",
    "    print(\"{} 清洗完毕！\".format(i))\n"
   ]
  },
  {
   "cell_type": "code",
   "execution_count": null,
   "outputs": [],
   "source": [],
   "metadata": {
    "collapsed": false
   }
  }
 ],
 "metadata": {
  "kernelspec": {
   "display_name": "Python 3",
   "language": "python",
   "name": "python3"
  },
  "language_info": {
   "codemirror_mode": {
    "name": "ipython",
    "version": 2
   },
   "file_extension": ".py",
   "mimetype": "text/x-python",
   "name": "python",
   "nbconvert_exporter": "python",
   "pygments_lexer": "ipython2",
   "version": "2.7.6"
  }
 },
 "nbformat": 4,
 "nbformat_minor": 0
}
