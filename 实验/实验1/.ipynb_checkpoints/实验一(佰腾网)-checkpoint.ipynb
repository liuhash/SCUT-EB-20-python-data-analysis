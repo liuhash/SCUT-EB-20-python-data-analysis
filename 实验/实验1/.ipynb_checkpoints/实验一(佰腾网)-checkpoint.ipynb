{
 "cells": [
  {
   "cell_type": "code",
   "execution_count": 1,
   "id": "4f14141c",
   "metadata": {},
   "outputs": [],
   "source": [
    "import requests\n",
    "import pandas as pd\n",
    "import os\n",
    "import json"
   ]
  },
  {
   "cell_type": "code",
   "execution_count": 2,
   "id": "6359986f",
   "metadata": {},
   "outputs": [],
   "source": [
    "# 设置爬取省份\n",
    "provinces = [ '贵州', '辽宁', '重庆', '陕西', '青海', '黑龙江'，'上海', '云南', '内蒙古', '北京', '吉林', '四川', '天津', '宁夏', '安徽', '山东', '山西', '广东','广西', '新疆', '江苏', '江西', '河北', '河南', '浙江', '海南', '湖北', '湖南', '甘肃', '福建', '西藏']\n",
    "\n",
    "# 设置爬取年份\n",
    "years = range(1985,2020)"
   ]
  },
  {
   "cell_type": "code",
   "execution_count": 3,
   "id": "cc75f3fe",
   "metadata": {},
   "outputs": [
    {
     "name": "stderr",
     "output_type": "stream",
     "text": [
      "C:\\Users\\86188\\AppData\\Local\\Temp/ipykernel_41716/881265398.py:61: FutureWarning: As the xlwt package is no longer maintained, the xlwt engine will be removed in a future version of pandas. This is the only engine in pandas that supports writing in the xls format. Install openpyxl and write to an xlsx file instead. You can set the option io.excel.xls.writer to 'xlwt' to silence this warning. While this option is deprecated and will also raise a warning, it can be globally set and the warning suppressed.\n",
      "  df_all.to_excel('./佰腾网1985-2018专利数据.xls')\n"
     ]
    }
   ],
   "source": [
    "# 爬取各省不同类型专利数据，每条记录包括：年份、省份、发明专利、发明公开专利、发明授权专利、外观专利、实用新型专利\n",
    "url2 = 'https://www.baiten.cn/results/filter'\n",
    "\n",
    "headers2 = {\n",
    "'Accept': '*/*',\n",
    "'Accept-Encoding': 'gzip, deflate, br',\n",
    "'Accept-Language': 'zh-CN,zh;q=0.9,en;q=0.8,en-GB;q=0.7,en-US;q=0.6',\n",
    "'Connection': 'keep-alive',\n",
    "'Content-Length': '67',\n",
    "'Content-Type': 'application/x-www-form-urlencoded; charset=UTF-8',\n",
    "'Cookie': '_uab_collina=163654862898684906658077; JSESSIONID=75B41198791452F9E3E3B4B9F5352880; BAIDU_SSP_lcr=https://www.baidu.com/link?url=EFse08zhiixR9Pi289jIF2Oao7w_JkvCgfGQHSS6cZq&wd=&eqid=c23425260002936300000006618fb377; Hm_lvt_7fc44f078bf7b5e19489428c362109a3=1636548454,1636807683; zlcp20211013=true; BSESSION=72caab02c1352f5c93727f15d28000944c8d0e8cdc06a787; PD=cca545958db3df197ccef27b9161c83c5b2027db52cdeadf2e54a402f5d848f8d475ccbd2dae7ec4; Hm_lpvt_7fc44f078bf7b5e19489428c362109a3=1636959792; yunsuo_session_verify=f5f2900da0a6008abf61d7e55ed72ced',\n",
    "'DNT': '1',\n",
    "'Host': 'www.baiten.cn',\n",
    "'Origin': 'https://www.baiten.cn',\n",
    "'Referer': 'https://www.baiten.cn/results/s/%2528pd%253A%255B20200101%2BTO%2B20201231%255D%2529/.html?type=s&sc=35184372088831',\n",
    "'sec-ch-ua': \"Microsoft Edge\",\n",
    "'sec-ch-ua-platform': \"Windows\",\n",
    "'Sec-Fetch-Dest': 'empty',\n",
    "'Sec-Fetch-Mode': 'cors',\n",
    "'Sec-Fetch-Site': 'same-origin',\n",
    "'User-Agent': 'Mozilla/5.0 (Windows NT 10.0; Win64; x64) AppleWebKit/537.36 (KHTML, like Gecko) Chrome/95.0.4638.69 Safari/537.36 Edg/95.0.1020.44',\n",
    "'X-Requested-With': 'XMLHttpRequest'\n",
    "}\n",
    "\n",
    "# 设置列名\n",
    "data = {\n",
    "    'cn_in':'发明专利',\n",
    "    'cn_in_gp':'发明公开专利',\n",
    "    'cn_gp':'发明授权专利',\n",
    "    'cn_id':'外观专利',\n",
    "   'cn_um': '实用新型专利'\n",
    "}\n",
    "\n",
    "# 以df格式保存数据\n",
    "df_list = []\n",
    "\n",
    "# 获取参数\n",
    "for year in years:\n",
    "    for province in provinces:\n",
    "        data2 = {\n",
    "        'q': 'aa:('+province+')'+' AND (pd:['+str(year)+'0101 TO '+str(year)+'1231])',\n",
    "        'fq': '',\n",
    "        'sc': '15',\n",
    "        'pageSize': '',\n",
    "        }\n",
    "    # 发送请求\n",
    "        respond = requests.post(url=url2,headers=headers2,data=data2)\n",
    "        # 获取数据\n",
    "        json_result = respond.json()\n",
    "        json_df = pd.DataFrame(json_result['facetPivots']['country'])\n",
    "        json_df = json_df.T # 转置\n",
    "        json_df = json_df.reset_index() \n",
    "        del json_df['index'] #重设索引，删除index\n",
    "        json_df.columns = json_df.columns.map(data) # 更改列名\n",
    "        json_df['年份'] = [str(year)] #增加列\n",
    "        json_df['省份'] = [str(province)]\n",
    "        df_list.append(json_df) #放入list中\n",
    "df_all = pd.concat(df_list) # 合并\n",
    "# 重设索引\n",
    "df_all = df_all.reset_index()\n",
    "del df_all['index']\n",
    "# 保存数据\n",
    "df_all.to_excel('./佰腾网1985-2018专利数据.xls')"
   ]
  },
  {
   "cell_type": "code",
   "execution_count": null,
   "id": "717a6242",
   "metadata": {},
   "outputs": [],
   "source": []
  }
 ],
 "metadata": {
  "kernelspec": {
   "display_name": "Python 3 (ipykernel)",
   "language": "python",
   "name": "python3"
  },
  "language_info": {
   "codemirror_mode": {
    "name": "ipython",
    "version": 3
   },
   "file_extension": ".py",
   "mimetype": "text/x-python",
   "name": "python",
   "nbconvert_exporter": "python",
   "pygments_lexer": "ipython3",
   "version": "3.9.7"
  }
 },
 "nbformat": 4,
 "nbformat_minor": 5
}
