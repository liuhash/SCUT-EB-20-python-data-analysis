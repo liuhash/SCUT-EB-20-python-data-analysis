{
 "cells": [
  {
   "cell_type": "code",
   "execution_count": 11,
   "id": "999c02da",
   "metadata": {},
   "outputs": [],
   "source": [
    "import requests\n",
    "import pandas as pd\n",
    "import os"
   ]
  },
  {
   "cell_type": "code",
   "execution_count": 12,
   "id": "be9b17df",
   "metadata": {},
   "outputs": [],
   "source": [
    "#获取各个页面的url\n",
    "def get_url(year):\n",
    "    url = 'https://www.cnipa.gov.cn/tjxx/jianbao/year'+ year #/indexy.html'\n",
    "    url_a = url + '/a.html'  #专利申请状况\n",
    "    url_b = url + '/b.html' #专利授权状况\n",
    "    url_c = url + '/c.html' #专利有效状况\n",
    "    url_h = url + '/h.html' #专利行政执法状况\n",
    "    sum_url = [url_a,url_b,url_c,url_h]\n",
    "    return sum_url  #以列表的形式返回某年份的html"
   ]
  },
  {
   "cell_type": "code",
   "execution_count": 13,
   "id": "6b0e7b7c",
   "metadata": {},
   "outputs": [
    {
     "data": {
      "text/plain": [
       "['https://www.cnipa.gov.cn/tjxx/jianbao/year2015/a.html',\n",
       " 'https://www.cnipa.gov.cn/tjxx/jianbao/year2015/b.html',\n",
       " 'https://www.cnipa.gov.cn/tjxx/jianbao/year2015/c.html',\n",
       " 'https://www.cnipa.gov.cn/tjxx/jianbao/year2015/h.html',\n",
       " 'https://www.cnipa.gov.cn/tjxx/jianbao/year2016/a.html',\n",
       " 'https://www.cnipa.gov.cn/tjxx/jianbao/year2016/b.html',\n",
       " 'https://www.cnipa.gov.cn/tjxx/jianbao/year2016/c.html',\n",
       " 'https://www.cnipa.gov.cn/tjxx/jianbao/year2016/h.html',\n",
       " 'https://www.cnipa.gov.cn/tjxx/jianbao/year2017/a.html',\n",
       " 'https://www.cnipa.gov.cn/tjxx/jianbao/year2017/b.html',\n",
       " 'https://www.cnipa.gov.cn/tjxx/jianbao/year2017/c.html',\n",
       " 'https://www.cnipa.gov.cn/tjxx/jianbao/year2017/h.html',\n",
       " 'https://www.cnipa.gov.cn/tjxx/jianbao/year2018/a.html',\n",
       " 'https://www.cnipa.gov.cn/tjxx/jianbao/year2018/b.html',\n",
       " 'https://www.cnipa.gov.cn/tjxx/jianbao/year2018/c.html',\n",
       " 'https://www.cnipa.gov.cn/tjxx/jianbao/year2018/h.html']"
      ]
     },
     "execution_count": 13,
     "metadata": {},
     "output_type": "execute_result"
    }
   ],
   "source": [
    "sum_url = []\n",
    "for year in range(2015,2019):\n",
    "    year = str(year)\n",
    "    sum_url = sum_url + get_url(year)\n",
    "sum_url"
   ]
  },
  {
   "cell_type": "code",
   "execution_count": 14,
   "id": "2588cd0e",
   "metadata": {},
   "outputs": [],
   "source": [
    "#获取以上网页子网页的url\n",
    "def get_excel(year,urls):\n",
    "    times = 1\n",
    "    for url in urls:\n",
    "        headers = {\n",
    "        'User-Agent': 'Mozilla/5.0 (Windows NT 10.0; Win64; x64) AppleWebKit/537.36 (KHTML, like Gecko) Chrome/104.0.5112.102 Safari/537.36 Edg/104.0.1293.70'\n",
    "        }\n",
    "        req = requests.get(url,headers=headers).text\n",
    "        html_data = pd.read_html(req)[3]      # 从HTML的表格中读取数据\n",
    "        if times < 10:\n",
    "            html_data.to_excel('./'+year+'/'+url[-7:-5]+'.xlsx')\n",
    "            times = times + 1\n",
    "        else:\n",
    "            html_data.to_excel('./'+year+'/'+url[-8:-5]+'.xlsx')\n",
    "            times = times + 1\n",
    "\n",
    "def get_table_url(year):\n",
    "    base_url = 'https://www.cnipa.gov.cn/tjxx/jianbao/year'+ year\n",
    "    urls_a = [base_url + '/a/a{}'.format(i) + '.html' for i in range(1,19)] #专利申请状况，一共有18条数据网址，对应18张表\n",
    "    get_excel(year,urls_a)\n",
    "    urls_b = [base_url + '/b/b{}'.format(i) + '.html' for i in range(1,15)] #专利授权状况，一共有14条数据网址，对应14张表\n",
    "    get_excel(year,urls_b)\n",
    "    urls_c = [base_url + '/c/c{}'.format(i) + '.html' for i in range(1,10)] #专利有效状况，一共有9条数据网址，对应9张表\n",
    "    get_excel(year,urls_c)\n",
    "    urls_h = [base_url + '/h/h{}'.format(i) + '.html' for i in range(1,7)] #专利行政执法状况，一共有6条数据网址，对应6张表\n",
    "    get_excel(year,urls_h)\n",
    "    \n",
    "for year in range(2015,2019):\n",
    "    year = str(year)\n",
    "    path = './' + year\n",
    "    isExists = os.path.exists(path)\n",
    "    if not isExists:\n",
    "        os.mkdir(path)\n",
    "    get_table_url(year)"
   ]
  },
  {
   "cell_type": "code",
   "execution_count": null,
   "id": "61804203",
   "metadata": {},
   "outputs": [],
   "source": []
  }
 ],
 "metadata": {
  "kernelspec": {
   "display_name": "Python 3 (ipykernel)",
   "language": "python",
   "name": "python3"
  },
  "language_info": {
   "codemirror_mode": {
    "name": "ipython",
    "version": 3
   },
   "file_extension": ".py",
   "mimetype": "text/x-python",
   "name": "python",
   "nbconvert_exporter": "python",
   "pygments_lexer": "ipython3",
   "version": "3.9.7"
  }
 },
 "nbformat": 4,
 "nbformat_minor": 5
}
