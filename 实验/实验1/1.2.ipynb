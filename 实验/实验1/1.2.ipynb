{
 "cells": [
  {
   "cell_type": "code",
   "execution_count": 40,
   "metadata": {
    "collapsed": true
   },
   "outputs": [
    {
     "ename": "NoSuchElementException",
     "evalue": "Message: no such element: Unable to locate element: {\"method\":\"css selector\",\"selector\":\"[id=\"loginname\"]\"}\n  (Session info: chrome=108.0.5359.99)\nStacktrace:\nBacktrace:\n\t(No symbol) [0x011CF243]\n\t(No symbol) [0x01157FD1]\n\t(No symbol) [0x0104D04D]\n\t(No symbol) [0x0107C0B0]\n\t(No symbol) [0x0107C22B]\n\t(No symbol) [0x010AE612]\n\t(No symbol) [0x010985D4]\n\t(No symbol) [0x010AC9EB]\n\t(No symbol) [0x01098386]\n\t(No symbol) [0x0107163C]\n\t(No symbol) [0x0107269D]\n\tGetHandleVerifier [0x01469A22+2655074]\n\tGetHandleVerifier [0x0145CA24+2601828]\n\tGetHandleVerifier [0x01278C0A+619850]\n\tGetHandleVerifier [0x01277830+614768]\n\t(No symbol) [0x011605FC]\n\t(No symbol) [0x01165968]\n\t(No symbol) [0x01165A55]\n\t(No symbol) [0x0117051B]\n\tBaseThreadInitThunk [0x7514FEF9+25]\n\tRtlGetAppContainerNamedObjectPath [0x77087BBE+286]\n\tRtlGetAppContainerNamedObjectPath [0x77087B8E+238]\n",
     "output_type": "error",
     "traceback": [
      "\u001B[1;31m---------------------------------------------------------------------------\u001B[0m",
      "\u001B[1;31mNoSuchElementException\u001B[0m                    Traceback (most recent call last)",
      "Cell \u001B[1;32mIn [40], line 13\u001B[0m\n\u001B[0;32m     11\u001B[0m web\u001B[38;5;241m.\u001B[39mimplicitly_wait(\u001B[38;5;241m20\u001B[39m)\n\u001B[0;32m     12\u001B[0m \u001B[38;5;66;03m# 填写登录信息：用户名、密码\u001B[39;00m\n\u001B[1;32m---> 13\u001B[0m \u001B[43mweb\u001B[49m\u001B[38;5;241;43m.\u001B[39;49m\u001B[43mfind_element\u001B[49m\u001B[43m(\u001B[49m\u001B[43mBy\u001B[49m\u001B[38;5;241;43m.\u001B[39;49m\u001B[43mID\u001B[49m\u001B[43m,\u001B[49m\u001B[38;5;124;43m\"\u001B[39;49m\u001B[38;5;124;43mloginname\u001B[39;49m\u001B[38;5;124;43m\"\u001B[39;49m\u001B[43m)\u001B[49m\u001B[38;5;241m.\u001B[39msend_keys(username)\n\u001B[0;32m     14\u001B[0m web\u001B[38;5;241m.\u001B[39mfind_element(By\u001B[38;5;241m.\u001B[39mNAME,\u001B[38;5;124m\"\u001B[39m\u001B[38;5;124mpassword\u001B[39m\u001B[38;5;124m\"\u001B[39m)\u001B[38;5;241m.\u001B[39msend_keys(password)\n\u001B[0;32m     15\u001B[0m time\u001B[38;5;241m.\u001B[39msleep(\u001B[38;5;241m1\u001B[39m)\n",
      "File \u001B[1;32mD:\\python\\lib\\site-packages\\selenium\\webdriver\\remote\\webdriver.py:856\u001B[0m, in \u001B[0;36mWebDriver.find_element\u001B[1;34m(self, by, value)\u001B[0m\n\u001B[0;32m    853\u001B[0m     by \u001B[38;5;241m=\u001B[39m By\u001B[38;5;241m.\u001B[39mCSS_SELECTOR\n\u001B[0;32m    854\u001B[0m     value \u001B[38;5;241m=\u001B[39m \u001B[38;5;124m'\u001B[39m\u001B[38;5;124m[name=\u001B[39m\u001B[38;5;124m\"\u001B[39m\u001B[38;5;132;01m%s\u001B[39;00m\u001B[38;5;124m\"\u001B[39m\u001B[38;5;124m]\u001B[39m\u001B[38;5;124m'\u001B[39m \u001B[38;5;241m%\u001B[39m value\n\u001B[1;32m--> 856\u001B[0m \u001B[38;5;28;01mreturn\u001B[39;00m \u001B[38;5;28;43mself\u001B[39;49m\u001B[38;5;241;43m.\u001B[39;49m\u001B[43mexecute\u001B[49m\u001B[43m(\u001B[49m\u001B[43mCommand\u001B[49m\u001B[38;5;241;43m.\u001B[39;49m\u001B[43mFIND_ELEMENT\u001B[49m\u001B[43m,\u001B[49m\u001B[43m \u001B[49m\u001B[43m{\u001B[49m\n\u001B[0;32m    857\u001B[0m \u001B[43m    \u001B[49m\u001B[38;5;124;43m'\u001B[39;49m\u001B[38;5;124;43musing\u001B[39;49m\u001B[38;5;124;43m'\u001B[39;49m\u001B[43m:\u001B[49m\u001B[43m \u001B[49m\u001B[43mby\u001B[49m\u001B[43m,\u001B[49m\n\u001B[0;32m    858\u001B[0m \u001B[43m    \u001B[49m\u001B[38;5;124;43m'\u001B[39;49m\u001B[38;5;124;43mvalue\u001B[39;49m\u001B[38;5;124;43m'\u001B[39;49m\u001B[43m:\u001B[49m\u001B[43m \u001B[49m\u001B[43mvalue\u001B[49m\u001B[43m}\u001B[49m\u001B[43m)\u001B[49m[\u001B[38;5;124m'\u001B[39m\u001B[38;5;124mvalue\u001B[39m\u001B[38;5;124m'\u001B[39m]\n",
      "File \u001B[1;32mD:\\python\\lib\\site-packages\\selenium\\webdriver\\remote\\webdriver.py:429\u001B[0m, in \u001B[0;36mWebDriver.execute\u001B[1;34m(self, driver_command, params)\u001B[0m\n\u001B[0;32m    427\u001B[0m response \u001B[38;5;241m=\u001B[39m \u001B[38;5;28mself\u001B[39m\u001B[38;5;241m.\u001B[39mcommand_executor\u001B[38;5;241m.\u001B[39mexecute(driver_command, params)\n\u001B[0;32m    428\u001B[0m \u001B[38;5;28;01mif\u001B[39;00m response:\n\u001B[1;32m--> 429\u001B[0m     \u001B[38;5;28;43mself\u001B[39;49m\u001B[38;5;241;43m.\u001B[39;49m\u001B[43merror_handler\u001B[49m\u001B[38;5;241;43m.\u001B[39;49m\u001B[43mcheck_response\u001B[49m\u001B[43m(\u001B[49m\u001B[43mresponse\u001B[49m\u001B[43m)\u001B[49m\n\u001B[0;32m    430\u001B[0m     response[\u001B[38;5;124m'\u001B[39m\u001B[38;5;124mvalue\u001B[39m\u001B[38;5;124m'\u001B[39m] \u001B[38;5;241m=\u001B[39m \u001B[38;5;28mself\u001B[39m\u001B[38;5;241m.\u001B[39m_unwrap_value(\n\u001B[0;32m    431\u001B[0m         response\u001B[38;5;241m.\u001B[39mget(\u001B[38;5;124m'\u001B[39m\u001B[38;5;124mvalue\u001B[39m\u001B[38;5;124m'\u001B[39m, \u001B[38;5;28;01mNone\u001B[39;00m))\n\u001B[0;32m    432\u001B[0m     \u001B[38;5;28;01mreturn\u001B[39;00m response\n",
      "File \u001B[1;32mD:\\python\\lib\\site-packages\\selenium\\webdriver\\remote\\errorhandler.py:243\u001B[0m, in \u001B[0;36mErrorHandler.check_response\u001B[1;34m(self, response)\u001B[0m\n\u001B[0;32m    241\u001B[0m         alert_text \u001B[38;5;241m=\u001B[39m value[\u001B[38;5;124m'\u001B[39m\u001B[38;5;124malert\u001B[39m\u001B[38;5;124m'\u001B[39m]\u001B[38;5;241m.\u001B[39mget(\u001B[38;5;124m'\u001B[39m\u001B[38;5;124mtext\u001B[39m\u001B[38;5;124m'\u001B[39m)\n\u001B[0;32m    242\u001B[0m     \u001B[38;5;28;01mraise\u001B[39;00m exception_class(message, screen, stacktrace, alert_text)  \u001B[38;5;66;03m# type: ignore[call-arg]  # mypy is not smart enough here\u001B[39;00m\n\u001B[1;32m--> 243\u001B[0m \u001B[38;5;28;01mraise\u001B[39;00m exception_class(message, screen, stacktrace)\n",
      "\u001B[1;31mNoSuchElementException\u001B[0m: Message: no such element: Unable to locate element: {\"method\":\"css selector\",\"selector\":\"[id=\"loginname\"]\"}\n  (Session info: chrome=108.0.5359.99)\nStacktrace:\nBacktrace:\n\t(No symbol) [0x011CF243]\n\t(No symbol) [0x01157FD1]\n\t(No symbol) [0x0104D04D]\n\t(No symbol) [0x0107C0B0]\n\t(No symbol) [0x0107C22B]\n\t(No symbol) [0x010AE612]\n\t(No symbol) [0x010985D4]\n\t(No symbol) [0x010AC9EB]\n\t(No symbol) [0x01098386]\n\t(No symbol) [0x0107163C]\n\t(No symbol) [0x0107269D]\n\tGetHandleVerifier [0x01469A22+2655074]\n\tGetHandleVerifier [0x0145CA24+2601828]\n\tGetHandleVerifier [0x01278C0A+619850]\n\tGetHandleVerifier [0x01277830+614768]\n\t(No symbol) [0x011605FC]\n\t(No symbol) [0x01165968]\n\t(No symbol) [0x01165A55]\n\t(No symbol) [0x0117051B]\n\tBaseThreadInitThunk [0x7514FEF9+25]\n\tRtlGetAppContainerNamedObjectPath [0x77087BBE+286]\n\tRtlGetAppContainerNamedObjectPath [0x77087B8E+238]\n"
     ]
    }
   ],
   "source": [
    "from selenium.webdriver import Chrome\n",
    "from selenium import webdriver\n",
    "from selenium.webdriver.common.keys import Keys\n",
    "from selenium.webdriver.common.by import By\n",
    "import time\n",
    "web=Chrome()\n",
    "username = \"18831262293\"\n",
    "password = \"lby123456\"\n",
    "# 打开微博登录页\n",
    "web.get('https://www.weibo.com')\n",
    "web.implicitly_wait(20)\n",
    "# 填写登录信息：用户名、密码\n",
    "web.find_element(By.ID,\"loginname\").send_keys(username)\n",
    "web.find_element(By.NAME,\"password\").send_keys(password)\n",
    "time.sleep(1)\n",
    "# 点击登录\n",
    "web.find_element(By.CLASS_NAME,\"W_btn_a\").click()\n",
    "time.sleep(1)\n",
    "web.find_element(By.ID,\"messageCheck\").click()\n",
    "web.find_element(By.ID,\"message_sms_login\").click()\n",
    "\n",
    "time.sleep(10)\n",
    "cookies=web.get_cookies()\n",
    "print(cookies)\n",
    "# # 通过人机验证，找到那个小点点击一下\n",
    "# # web.find_element(By.CLASS_NAME,\"geetest_radar_tip\").click()\n",
    "# web.find_element(By.CLASS_NAME,\"m-btn\").click()\n",
    "# # web.get(\"https://weibo.com\")\n",
    "# web.get_cookie()\n",
    "# time.sleep(5)\n",
    "\n"
   ]
  },
  {
   "cell_type": "code",
   "execution_count": 39,
   "outputs": [
    {
     "name": "stdout",
     "output_type": "stream",
     "text": [
      "cookie{'domain': '.weibo.com', 'httpOnly': False, 'name': '_s_tentry', 'path': '/', 'secure': False, 'value': 'passport.weibo.com'} can't work!\n",
      "cookie{'domain': '.weibo.com', 'expiry': 1702031560, 'httpOnly': False, 'name': 'ULV', 'path': '/', 'secure': False, 'value': '1670927560668:1:1:1:9507112733767.795.1670927560665:'} can't work!\n",
      "cookie{'domain': '.weibo.com', 'httpOnly': False, 'name': 'cross_origin_proto', 'path': '/', 'secure': False, 'value': 'SSL'} can't work!\n",
      "cookie{'domain': '.weibo.com', 'expiry': 1705487560, 'httpOnly': False, 'name': 'SINAGLOBAL', 'path': '/', 'secure': False, 'value': '9507112733767.795.1670927560665'} can't work!\n",
      "cookie{'domain': '.weibo.com', 'httpOnly': False, 'name': 'login_sid_t', 'path': '/', 'secure': False, 'value': '5707babb0d569cad438e5f86f7757df8'} can't work!\n",
      "cookie{'domain': '.passport.weibo.com', 'expiry': 1705487558, 'httpOnly': True, 'name': 'SRT', 'path': '/', 'secure': True, 'value': 'D.QqHBTrsP5mu-5cRtOeYoWr9NUdS34e%21pWcY8iERk54EwMdbbN-bkA-y6NbHi5mYNUCsuTZbhVdnnM3MNAZSAJEAoNmH6A3M3OFX3PrbrSmiOPOSgP49tArn-5GEOKA77%2AB.vAflW-P9Rc0lR-ykKDvnJqiQVbiRVPBtS%21r3J8sQVqbgVdWiMZ4siOzu4DbmKPWfNqSDQqWBTeYCibSAIPvoJqbD5Ebg'} can't work!\n",
      "cookie{'domain': '.passport.weibo.com', 'expiry': 1705487558, 'httpOnly': False, 'name': 'SRF', 'path': '/', 'secure': True, 'value': '1670927556'} can't work!\n",
      "cookie{'domain': '.weibo.com', 'httpOnly': False, 'name': 'Apache', 'path': '/', 'secure': False, 'value': '9507112733767.795.1670927560665'} can't work!\n",
      "cookie{'domain': '.weibo.com', 'expiry': 1702463558, 'httpOnly': False, 'name': 'SUBP', 'path': '/', 'secure': False, 'value': '0033WrSXqPxfM72-Ws9jqgMF55529P9D9WhK6C_7AjxB6VP-P139CxYj'} can't work!\n",
      "cookie{'domain': '.weibo.com', 'expiry': 1702463558, 'httpOnly': True, 'name': 'SUB', 'path': '/', 'sameSite': 'None', 'secure': True, 'value': '_2AkMUxNvzf8NxqwJRmfwRy2vhb4V-yAzEieKimCooJRMxHRl-yj9kql0GtRB6P0T1HBoCtwLh7WItdCSU6jUJxCL6xqS9'} can't work!\n",
      "cookie{'domain': '.weibo.com', 'expiry': 1670929359, 'httpOnly': True, 'name': 'PC_TOKEN', 'path': '/', 'secure': True, 'value': 'ef5d191589'} can't work!\n"
     ]
    }
   ],
   "source": [
    "web=Chrome()\n",
    "for c in cookies:\n",
    "    try:\n",
    "        web.add_cookie(c)\n",
    "    except:\n",
    "        print(\"cookie{} can't work!\".format(c))\n",
    "try:\n",
    "    web.get(\"https://www.weibo.com\")\n",
    "except:\n",
    "    print(\"Can't get page!\")"
   ],
   "metadata": {
    "collapsed": false
   }
  },
  {
   "cell_type": "code",
   "execution_count": null,
   "outputs": [],
   "source": [],
   "metadata": {
    "collapsed": false
   }
  }
 ],
 "metadata": {
  "kernelspec": {
   "display_name": "Python 3",
   "language": "python",
   "name": "python3"
  },
  "language_info": {
   "codemirror_mode": {
    "name": "ipython",
    "version": 2
   },
   "file_extension": ".py",
   "mimetype": "text/x-python",
   "name": "python",
   "nbconvert_exporter": "python",
   "pygments_lexer": "ipython2",
   "version": "2.7.6"
  }
 },
 "nbformat": 4,
 "nbformat_minor": 0
}
