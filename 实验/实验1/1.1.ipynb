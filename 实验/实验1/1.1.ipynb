{
 "cells": [
  {
   "cell_type": "code",
   "execution_count": 1,
   "metadata": {
    "collapsed": true
   },
   "outputs": [],
   "source": [
    "import requests\n",
    "from bs4 import BeautifulSoup\n",
    "import re\n",
    "import pandas as pd\n",
    "import os\n",
    "url_patterns=\"https://www.cnipa.gov.cn/tjxx/jianbao/year{}/a/a1.html\"\n",
    "url_patterns2=\"https://www.cnipa.gov.cn/tjxx/jianbao/year{}/h/h1.html\"\n",
    "headers={\n",
    "    'User-Agent':\"Mozilla/5.0 (Macintosh; U; Intel Mac OS X 10_6_8; en-us) AppleWebKit/534.50 (KHTML, like Gecko) Version/5.1 Safari/534.50\",\n",
    "}\n"
   ]
  },
  {
   "cell_type": "code",
   "execution_count": 17,
   "outputs": [],
   "source": [
    "# print(\"Running!\")\n",
    "for i in range(2008,2020):\n",
    "    # print(\"into loop!\")\n",
    "    url1=url_patterns.format(i)\n",
    "    # 专利执法爬取\n",
    "    url2=url_patterns2.format(i)\n",
    "    # print(url)\n",
    "    if not os.path.exists(\"{}\".format(i)):\n",
    "        os.mkdir(\"{}\".format(i))\n",
    "    path1=\"{}/专利局.csv\".format(i)\n",
    "    path2=\"{}/专利执法情况.csv\".format(i)\n",
    "    def get_tables(url:str,path:str,classname:str):\n",
    "        # print(\"method was evoked!\")\n",
    "        r=requests.get(url=url,headers=headers)\n",
    "        html_text=r.text\n",
    "        bsObj = BeautifulSoup(html_text, \"html.parser\")\n",
    "        tables = bsObj.findAll(\"table\", {\"class\": classname})\n",
    "        if tables is None:\n",
    "            print(\"no table\")\n",
    "            # exit(1)\n",
    "        for table in tables:\n",
    "            rows = table.findAll(\"tr\")\n",
    "            data=[]\n",
    "            for row in rows:\n",
    "                csvRow = []\n",
    "                for cell in row.findAll(['td', 'th']):\n",
    "                    # print(cell)\n",
    "                    # 获取是否跨列，并对其进行处理\n",
    "                    colspan = re.findall('colspan=\"(\\d+)\"', str(cell))\n",
    "                    csvRow.append(cell.get_text())\n",
    "                    if colspan:\n",
    "                        for x in range(1, int(colspan[0])):\n",
    "                            csvRow.append(\" \")\n",
    "                data.append(csvRow)\n",
    "            # print(data)\n",
    "            df=pd.DataFrame(data)\n",
    "            # print(df)\n",
    "            df.to_csv(path,index=False,encoding=\"utf-8\")\n",
    "    # get_tables(url1,path1,\"style1\")\n",
    "    get_tables(url2,path2,\"zz\")\n",
    "    # print(\"has done!\")"
   ],
   "metadata": {
    "collapsed": false
   }
  }
 ],
 "metadata": {
  "kernelspec": {
   "display_name": "Python 3",
   "language": "python",
   "name": "python3"
  },
  "language_info": {
   "codemirror_mode": {
    "name": "ipython",
    "version": 2
   },
   "file_extension": ".py",
   "mimetype": "text/x-python",
   "name": "python",
   "nbconvert_exporter": "python",
   "pygments_lexer": "ipython2",
   "version": "2.7.6"
  }
 },
 "nbformat": 4,
 "nbformat_minor": 0
}
