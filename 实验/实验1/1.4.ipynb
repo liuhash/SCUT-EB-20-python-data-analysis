{
 "cells": [
  {
   "cell_type": "code",
   "execution_count": 1,
   "id": "36ca7684",
   "metadata": {},
   "outputs": [],
   "source": [
    "import requests\n",
    "import pandas as pd\n",
    "import os\n",
    "import json\n",
    "from lxml import etree"
   ]
  },
  {
   "cell_type": "code",
   "execution_count": 3,
   "id": "08022400",
   "metadata": {},
   "outputs": [],
   "source": [
    "path='./bjnews'\n",
    "#创建文件夹\n",
    "if not os.path.exists(path):  \n",
    "    os.makedirs(path) \n",
    "#进行UA伪装，设置爬取页数   \n",
    "page=0\n",
    "url = 'https://bjrbdzb.bjd.com.cn/bjrb/mobile/2022/20221113/20221113_m.html?v=1668326886082#page'+str(page)\n",
    "headers = {\n",
    "    'User-Agent':'Mozilla/5.0 (Macintosh; Intel Mac OS X 10_12_0) AppleWebKit/537.36 (KHTML, like Gecko) Chrome/73.0.3683.103 Safari/537.36'\n",
    "}\n",
    "#发送requests请求\n",
    "response = requests.get(url=url,headers=headers)\n",
    "response.encoding = response.apparent_encoding\n",
    "page_text = response.text\n",
    "#进行数据解析\n",
    "tree = etree.HTML(page_text)\n",
    "node_list = tree.xpath('/html/body/div[1]/div')"
   ]
  },
  {
   "cell_type": "code",
   "execution_count": 4,
   "id": "0c2f6be8",
   "metadata": {},
   "outputs": [
    {
     "name": "stdout",
     "output_type": "stream",
     "text": [
      "{'第1版 头版': 'https://bjrbdzb.bjd.com.cn/bjrb/mobile/2022/20221113/20221113_m.html?v=1668326886082#page0', '第2版 要闻·时政': 'https://bjrbdzb.bjd.com.cn/bjrb/mobile/2022/20221113/20221113_m.html?v=1668326886082#page1', '第3版 今日关注': 'https://bjrbdzb.bjd.com.cn/bjrb/mobile/2022/20221113/20221113_m.html?v=1668326886082#page2', '第4版 中国世界': 'https://bjrbdzb.bjd.com.cn/bjrb/mobile/2022/20221113/20221113_m.html?v=1668326886082#page3'}\n"
     ]
    }
   ],
   "source": [
    "#处理版面数据\n",
    "nodes={}\n",
    "for node in node_list:\n",
    "    for it in node.xpath('./div'):\n",
    "        nodes[it.text]='https://bjrbdzb.bjd.com.cn/bjrb/mobile/2022/20221113/20221113_m.html?v=1668326886082#page'+str(page)\n",
    "        page=page+1\n",
    "print(nodes)"
   ]
  },
  {
   "cell_type": "code",
   "execution_count": 5,
   "id": "035632aa",
   "metadata": {},
   "outputs": [
    {
     "name": "stdout",
     "output_type": "stream",
     "text": [
      "{'https://bjrbdzb.bjd.com.cn/bjrb/mobile/2022/20221113/20221113_001/content_20221113_001_1.htm#page0': '习近平向“杂交水稻援外与世界粮食安全”国际论坛发表书面致辞', 'https://bjrbdzb.bjd.com.cn/bjrb/mobile/2022/20221113/20221113_001/content_20221113_001_2.htm#page0': '科学精准调度 提高服务质量 保障群众温暖过冬', 'https://bjrbdzb.bjd.com.cn/bjrb/mobile/2022/20221113/20221113_001/content_20221113_001_3.htm#page0': '今天零时起正式提前供暖', 'https://bjrbdzb.bjd.com.cn/bjrb/mobile/2022/20221113/20221113_001/content_20221113_001_4.htm#page0': '本市进一步完善进返京管理政策', 'https://bjrbdzb.bjd.com.cn/bjrb/mobile/2022/20221113/20221113_001/content_20221113_001_5.htm#page0': '京产电影《长津湖》获金鸡奖最佳故事片奖', 'https://bjrbdzb.bjd.com.cn/bjrb/mobile/2022/20221113/20221113_001/content_20221113_001_6.htm#page0': '同行天下大道 共创光明未来', 'https://bjrbdzb.bjd.com.cn/bjrb/mobile/2022/20221113/20221113_001/content_20221113_001_7.htm#page0': '为科技强国建设贡献光和热', 'https://bjrbdzb.bjd.com.cn/bjrb/mobile/2022/20221113/20221113_001/content_20221113_001_8.htm#page0': '颐和初霁 水天一色', 'https://bjrbdzb.bjd.com.cn/bjrb/mobile/2022/20221113/20221113_002/content_20221113_002_1.htm#page1': '不断凝聚共识 深化务实合作 为东亚合作的美好未来不懈努力 ', 'https://bjrbdzb.bjd.com.cn/bjrb/mobile/2022/20221113/20221113_002/content_20221113_002_2.htm#page1': '标题新闻', 'https://bjrbdzb.bjd.com.cn/bjrb/mobile/2022/20221113/20221113_002/content_20221113_002_3.htm#page1': '疫情防控措施优化调整不是“躺平”', 'https://bjrbdzb.bjd.com.cn/bjrb/mobile/2022/20221113/20221113_002/content_20221113_002_4.htm#page1': '立足科研岗位 继续攻坚克难', 'https://bjrbdzb.bjd.com.cn/bjrb/mobile/2022/20221113/20221113_002/content_20221113_002_5.htm#page1': '同行天下大道 共创光明未来', 'https://bjrbdzb.bjd.com.cn/bjrb/mobile/2022/20221113/20221113_002/content_20221113_002_6.htm#page1': '本市进一步完善进返京管理政策', 'https://bjrbdzb.bjd.com.cn/bjrb/mobile/2022/20221113/20221113_002/content_20221113_002_7.htm#page1': '朝阳区：持续抓牢社会面防控', 'https://bjrbdzb.bjd.com.cn/bjrb/mobile/2022/20221113/20221113_002/content_20221113_002_8.htm#page1': '昌平区：强化驻昌高校联防联控机制', 'https://bjrbdzb.bjd.com.cn/bjrb/mobile/2022/20221113/20221113_002/content_20221113_002_9.htm#page1': '大兴区：做好封控隔离服务保障', 'https://bjrbdzb.bjd.com.cn/bjrb/mobile/2022/20221113/20221113_002/content_20221113_002_10.htm#page1': '今天零时起正式提前供暖', 'https://bjrbdzb.bjd.com.cn/bjrb/mobile/2022/20221113/20221113_003/content_20221113_003_1.htm#page2': '2小时！天舟五号创最快交会对接纪录', 'https://bjrbdzb.bjd.com.cn/bjrb/mobile/2022/20221113/20221113_004/content_20221113_004_1.htm#page3': '为全球发展亚太合作凝聚共识注入动力', 'https://bjrbdzb.bjd.com.cn/bjrb/mobile/2022/20221113/20221113_004/content_20221113_004_2.htm#page3': '在北京生活，我变得更乐观更活跃', 'https://bjrbdzb.bjd.com.cn/bjrb/mobile/2022/20221113/20221113_004/content_20221113_004_3.htm#page3': '“来不及多想，看到孩子有危险就冲过去了”', 'https://bjrbdzb.bjd.com.cn/bjrb/mobile/2022/20221113/20221113_004/content_20221113_004_4.htm#page3': '首次明确6项护理服务', 'https://bjrbdzb.bjd.com.cn/bjrb/mobile/2022/20221113/20221113_004/content_20221113_004_5.htm#page3': '对严重破坏生态环境的犯罪零容忍', 'https://bjrbdzb.bjd.com.cn/bjrb/mobile/2022/20221113/20221113_004/content_20221113_004_6.htm#page3': '乌克兰总统说乌军正向赫尔松市推进'}\n"
     ]
    }
   ],
   "source": [
    "#处理版面中文章的数据\n",
    "articles = {}\n",
    "prefix = 'https://bjrbdzb.bjd.com.cn/bjrb/mobile/2022/20221113'\n",
    "for node in node_list:\n",
    "    # print(len(node.xpath('./ul/li')))\n",
    "    for it in node.xpath('./ul/li/a'):\n",
    "        suffix=str(it.xpath('./@data-href')[0])[1:]\n",
    "        articles[prefix+suffix]=it.text\n",
    "        #print(it.text,it.xpath('./@data-href')[0])\n",
    "print(articles)"
   ]
  },
  {
   "cell_type": "code",
   "execution_count": 6,
   "id": "8044a828",
   "metadata": {},
   "outputs": [
    {
     "name": "stdout",
     "output_type": "stream",
     "text": [
      "Over!\n"
     ]
    }
   ],
   "source": [
    "#处理所有文章数据\n",
    "for key in articles:\n",
    "    url = key\n",
    "    headers = {\n",
    "        'User-Agent':'Mozilla/5.0 (Macintosh; Intel Mac OS X 10_12_0) AppleWebKit/537.36 (KHTML, like Gecko) Chrome/73.0.3683.103 Safari/537.36'\n",
    "    }\n",
    "    response = requests.get(url=url,headers=headers)\n",
    "    response.encoding = response.apparent_encoding\n",
    "    page_text = response.text\n",
    "\n",
    "    tree = etree.HTML(page_text)\n",
    "    content_list = tree.xpath('//*[@id=\"content\"]/p')\n",
    "    \n",
    "    with open(path+'/'+articles[key]+'.txt','w',encoding='utf-8') as fp:\n",
    "        for content in content_list:\n",
    "            fp.write(str(content.text)+'\\n')\n",
    "            \n",
    "print('Over!')"
   ]
  },
  {
   "cell_type": "code",
   "execution_count": null,
   "id": "9622fc7a",
   "metadata": {},
   "outputs": [],
   "source": []
  }
 ],
 "metadata": {
  "kernelspec": {
   "display_name": "Python 3 (ipykernel)",
   "language": "python",
   "name": "python3"
  },
  "language_info": {
   "codemirror_mode": {
    "name": "ipython",
    "version": 3
   },
   "file_extension": ".py",
   "mimetype": "text/x-python",
   "name": "python",
   "nbconvert_exporter": "python",
   "pygments_lexer": "ipython3",
   "version": "3.9.7"
  }
 },
 "nbformat": 4,
 "nbformat_minor": 5
}
