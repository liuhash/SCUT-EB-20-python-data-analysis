{
 "cells": [
  {
   "cell_type": "code",
   "execution_count": 4,
   "metadata": {},
   "outputs": [
    {
     "name": "stdout",
     "output_type": "stream",
     "text": [
      "person_name_pattern\n",
      "ipv6_address\n",
      "person_detail_info\n",
      "cctv_channel\n",
      "=====================\n",
      "personNamePattern\n",
      "ipv6Address\n",
      "personDetailInfo\n",
      "cctvChannel\n"
     ]
    }
   ],
   "source": [
    "import re   #测试在Series里面实现驼峰和下划线的变换\n",
    "\n",
    "def hump2underline(hunp_str):\n",
    "    '''\n",
    "    驼峰形式字符串转成下划线形式\n",
    "    :param hunp_str: 驼峰形式字符串\n",
    "    :return: 字母全小写的下划线形式字符串\n",
    "    '''\n",
    "    # 匹配正则，匹配小写字母和大写字母的分界位置\n",
    "    p = re.compile(r'([a-z]|\\d)([A-Z])')\n",
    "    # 这里第二个参数使用了正则分组的后向引用\n",
    "    sub = re.sub(p, r'\\1_\\2', hunp_str).lower()\n",
    "    return sub\n",
    "\n",
    "def underline2hump(underline_str):\n",
    "    '''\n",
    "    下划线形式字符串转成驼峰形式\n",
    "    :param underline_str: 下划线形式字符串\n",
    "    :return: 驼峰形式字符串\n",
    "    '''\n",
    "    #只有一个括号的模式，group()、group(0)和group(1)都一样；\n",
    "    #如果两个括号，group()和group(0)都是匹配的全部内容，group(1)是第一个匹配的括号，group(2)是第二个匹配的括号\n",
    "    #这里re.sub()函数第二个替换参数用到了一个匿名回调函数，\n",
    "    #回调函数的参数x为一个匹配对象，返回值为一个处理后的字符串\n",
    "    sub = re.sub(r'(_\\w)',lambda x:x.group(1)[1].upper(),underline_str) \n",
    "    return sub\n",
    "\n",
    "attr1 = 'personNamePattern'\n",
    "attr2 = 'ipv6Address'\n",
    "attr3 = 'personDetailInfo'\n",
    "attr4 = 'cctvChannel'\n",
    "attrs = [attr1,attr2,attr3,attr4]\n",
    "\n",
    "\n",
    "# 遍历attrs进行匹配和转换，把驼峰形式的字符串转成下划线形式\n",
    "for attr in attrs:\n",
    "    sub = hump2underline(attr)\n",
    "    print(sub)\n",
    "\n",
    "print('=====================')    \n",
    "attr1 = 'person_name_pattern'\n",
    "attr2 = 'ipv6_address'\n",
    "attr3 = 'person_detail_info'\n",
    "attr4 = 'cctv_channel'\n",
    "attrs = [attr1, attr2, attr3, attr4]\n",
    "\n",
    "for attr in attrs:\n",
    "    sub = underline2hump(attr)\n",
    "    print(sub)"
   ]
  }
 ],
 "metadata": {
  "hide_input": false,
  "kernelspec": {
   "display_name": "Python 3",
   "language": "python",
   "name": "python3"
  },
  "language_info": {
   "codemirror_mode": {
    "name": "ipython",
    "version": 3
   },
   "file_extension": ".py",
   "mimetype": "text/x-python",
   "name": "python",
   "nbconvert_exporter": "python",
   "pygments_lexer": "ipython3",
   "version": "3.8.5"
  },
  "toc": {
   "base_numbering": 1,
   "nav_menu": {},
   "number_sections": true,
   "sideBar": true,
   "skip_h1_title": false,
   "title_cell": "Table of Contents",
   "title_sidebar": "Contents",
   "toc_cell": false,
   "toc_position": {},
   "toc_section_display": true,
   "toc_window_display": false
  },
  "varInspector": {
   "cols": {
    "lenName": 16,
    "lenType": 16,
    "lenVar": 40
   },
   "kernels_config": {
    "python": {
     "delete_cmd_postfix": "",
     "delete_cmd_prefix": "del ",
     "library": "var_list.py",
     "varRefreshCmd": "print(var_dic_list())"
    },
    "r": {
     "delete_cmd_postfix": ") ",
     "delete_cmd_prefix": "rm(",
     "library": "var_list.r",
     "varRefreshCmd": "cat(var_dic_list()) "
    }
   },
   "types_to_exclude": [
    "module",
    "function",
    "builtin_function_or_method",
    "instance",
    "_Feature"
   ],
   "window_display": false
  }
 },
 "nbformat": 4,
 "nbformat_minor": 4
}
